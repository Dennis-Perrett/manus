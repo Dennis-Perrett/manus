{
 "cells": [
  {
   "cell_type": "markdown",
   "metadata": {},
   "source": [
    "### Manus Notebook\n",
    "This files serves to understand the details of the manus codebase. The codebase is generally speaking very convoluted, so this will hopefully give some perspective on how to understand what is going on, and how to make edits.\n",
    "\n",
    "#### Starting\n",
    "The codebase is interfaced with via bash scriptseg: `train_objecct.sh`. The details for which are below.\n",
    "\n",
    "The script is called as follows\n",
    "\n",
    "```\n",
    "source train_object.sh <subject0>\n",
    "\n",
    "```\n",
    "\n",
    "---"
   ]
  },
  {
   "cell_type": "markdown",
   "metadata": {},
   "source": [
    "```\n",
    "#!/bin/bash\n",
    "\n",
    "SUBJECT=$1\n",
    "\n",
    "DATA_DIR=\"MANUS_data\"\n",
    "EXP_DIR=\"outputs/object\"\n",
    "ROOT_DIR=\"${DATA_DIR}/${SUBJECT}\"\n",
    "CALIB_DIR=\"${ROOT_DIR}/calib.object\"\n",
    "\n",
    "HYDRA_FULL_ERROR=1\n",
    "\n",
    "\n",
    "\n",
    "\n",
    "## For all the objects we want to train\n",
    "OBJS=(\"books1\")\n",
    "for OBJ_NAME in \"${OBJS[@]}\"\n",
    "do\n",
    "  echo \"Training $OBJ_NAME\"\n",
    "  OBJ_DIR=\"${ROOT_DIR}/objects/${OBJ_NAME}\"\n",
    "  EXP_OBJ_DIR=\"${EXP_DIR}/${SUBJECT}/${OBJ_NAME}/\"\n",
    "\n",
    "  python main.py --config-name OBJ_GAUSSIAN \\\n",
    "      output_dir=$EXP_OBJ_DIR \\\n",
    "      trainer.loggers='[csv]' \\\n",
    "      trainer.mode='train' \\\n",
    "      trainer.project='object' \\\n",
    "      trainer.exp_name=$OBJ_NAME \\\n",
    "      trainer.gpus=[0] \\\n",
    "      trainer.num_workers=4 \\\n",
    "      train_dataset.opts.split_ratio=0.98 \\\n",
    "      trainer.pl_vars.accumulate_grad_batches=1 \\\n",
    "      trainer.pl_vars.max_steps=10000 \\\n",
    "      train_dataset.opts.subject=$SUBJECT \\\n",
    "      train_dataset.opts.root_dir=$OBJ_DIR \\\n",
    "      train_dataset.opts.params_dir=$CALIB_DIR \\\n",
    "      model.opts.opacity_reset_interval=500 \\\n",
    "      model.opts.densification_interval=100 \\\n",
    "      model.opts.percent_dense=0.00001 \\\n",
    "      model.opts.densify_grad_threshold=0.00003 \\\n",
    "      model.opts.remove_outliers_step=150000 \\\n",
    "      model.opts.isotropic_scaling=false \\\n",
    "      model.opts.sample_size=300000\n",
    "\n",
    "done\n",
    "```"
   ]
  },
  {
   "cell_type": "markdown",
   "metadata": {},
   "source": [
    "---\n",
    "\n",
    "The most interesting section is the call to main.py --config name OBJ_GAUSSIAN ...\n",
    "\n",
    "The codebase uses Hydra to manage the differing hyperparamters. The commandline interface (above) allows for default config settings to be called (OBJ_GAUSSIAN.yaml) and then overwritten with custom values (commandline arguments eg output_dir=$EXP_OBJ_DIR).\n",
    "\n",
    "The default configs are:\n",
    "\n",
    "\n",
    "        defaults:\n",
    "          - trainer: trainer\n",
    "          - datasets/train@train_dataset: brics_static\n",
    "          - datasets/test@test_dataset: test_static\n",
    "          - model: object_model\n",
    "          - _self_\n",
    "\n",
    "        ## Directory where checkpoints and output would be saved\n",
    "        output_dir: \"outputs/${trainer.project}/${train_dataset.opts.subject}/${trainer.exp_name}\"\n",
    "        hydra:\n",
    "          run:\n",
    "            dir: ${output_dir}\n",
    "\n",
    "        module:\n",
    "          _target_: src.modules.object.TrainingModule\n",
    "          opts: ${opts}\n",
    "          mode: ${trainer.mode}\n",
    "\n",
    "        checkpoint:\n",
    "\n",
    "        opts:\n",
    "          losses: ['rgb_loss', 'ssim_loss', 'isotropic_reg']\n",
    "          loss_weight: [0.8, 0.2, 0.1]\n",
    "          model: ${model}\n",
    "          train_dataset: ${train_dataset}\n",
    "          test_dataset: ${test_dataset}\n",
    "          trainer: ${trainer}\n",
    "          output_dir: ${output_dir}\n",
    "\n",
    "  \n",
    "\n"
   ]
  },
  {
   "cell_type": "markdown",
   "metadata": {},
   "source": [
    "Of note is `module: __target__: src.modules.object.TrainingModule`. This is what defines what we would like to train. If we dive into `main.py` and take a look at `train()`, we can see"
   ]
  },
  {
   "cell_type": "code",
   "execution_count": null,
   "metadata": {},
   "outputs": [],
   "source": [
    "train(config, mode=config.trainer.mode, ckpt_dir=ckpt_dir)\n",
    "\n",
    "def train(config, mode, ckpt_dir):\n",
    "    cprint(\"Running Train\",\"green\")\n",
    "    cprint(f\"Train Mode: {mode}\",'magenta')\n",
    "    if mode != 'test':\n",
    "        cprint(\"Mode is NOT test\",'red')\n",
    "        callbacks = [\n",
    "            ModelCheckpoint(\n",
    "                # monitor=\"loss\",\n",
    "                dirpath=ckpt_dir,\n",
    "                filename=\"{epoch:03d}-{step}-{loss:.6f}\",\n",
    "                save_top_k=-1,\n",
    "                mode=\"min\",\n",
    "                every_n_epochs=1,\n",
    "                verbose=True\n",
    "            ),\n",
    "            LearningRateMonitor(logging_interval='step'),\n",
    "        ]\n",
    "\n",
    "        loggers = []\n",
    "        if mode != 'test':\n",
    "            if 'csv' in config.trainer.loggers:\n",
    "                loggers.extend([CSVLogger('.', name='logs', version='csv_logs')])\n",
    "    else:\n",
    "        callbacks = []\n",
    "        loggers = []\n",
    "\n",
    "    if mode == 'debug':\n",
    "        trainer = pl.Trainer(fast_dev_run=True)\n",
    "    else:\n",
    "        cprint(\"Running pure train mode without debug or test\",\"blue\")\n",
    "        ## DDP Fails for multiple models and optimizers\n",
    "        # strategy = 'ddp'\n",
    "        ## DDP_parameter_false works for multiple models and optimizers but slow\n",
    "        # strategy = 'ddp_find_unused_parameters_false'\n",
    "        trainer = pl.Trainer(\n",
    "            devices=config.trainer.gpus,\n",
    "            accelerator='gpu',\n",
    "            callbacks=callbacks,\n",
    "            logger=loggers,\n",
    "            **config.trainer.pl_vars\n",
    "        )\n",
    "\n",
    "    cprint(f\"Config Checkpoint is: {config.checkpoint}\", \"magenta\")\n",
    "    if config.checkpoint is not None:\n",
    "        num_gaussians = get_num_gaussians_from_checkpoint(config.checkpoint)\n",
    "        config.model.opts.num_gaussians = num_gaussians\n",
    "        module = hydra.utils.instantiate(config.module, _recursive_=False)\n",
    "        module = module.load_from_checkpoint(checkpoint_path=config.checkpoint, opts=config.opts,\n",
    "                                             mode=config.trainer.mode)\n",
    "    else:\n",
    "        module = hydra.utils.instantiate(config.module, _recursive_=False)\n",
    "\n",
    "    if config.trainer.torch_compile_mode is not None:\n",
    "        module = torch.compile(module, mode=config.trainer.torch_compile_mode)\n",
    "\n",
    "    if mode == 'test':\n",
    "        trainer.test(module)\n",
    "    else:\n",
    "        trainer.fit(module)\n"
   ]
  },
  {
   "cell_type": "markdown",
   "metadata": {},
   "source": [
    "As an example:"
   ]
  },
  {
   "cell_type": "code",
   "execution_count": 8,
   "metadata": {},
   "outputs": [],
   "source": [
    "import hydra\n",
    "\n",
    "@hydra.main(config_path=\"./config\", config_name=\"OBJ_GAUSSIAN\", version_base='1.1')\n",
    "def main(config):\n",
    "    print(config)"
   ]
  },
  {
   "cell_type": "markdown",
   "metadata": {},
   "source": [
    "returns:\n"
   ]
  },
  {
   "cell_type": "code",
   "execution_count": 10,
   "metadata": {},
   "outputs": [
    {
     "data": {
      "text/plain": [
       "{'trainer': {'output_dir': None,\n",
       "  'seed': 42,\n",
       "  'gpus': [0],\n",
       "  'num_workers': 4,\n",
       "  'batch_size': 1,\n",
       "  'exp_name': 'books1',\n",
       "  'project': 'object',\n",
       "  'mode': 'train',\n",
       "  'log_losses': True,\n",
       "  'loggers': ['csv'],\n",
       "  'torch_compile_mode': None,\n",
       "  'accum_iter': 1,\n",
       "  'pl_vars': {'max_steps': 10000,\n",
       "   'log_every_n_steps': 5,\n",
       "   'num_sanity_val_steps': 0,\n",
       "   'limit_train_batches': 1.0,\n",
       "   'limit_val_batches': 1.0,\n",
       "   'enable_progress_bar': True,\n",
       "   'precision': 32,\n",
       "   'accumulate_grad_batches': 1}},\n",
       " 'train_dataset': {'_target_': 'src.datasets.brics_static.Dataset',\n",
       "  'opts': {'subject': 'books1',\n",
       "   'root_dir': 'MANUS_data/books1/objects/books1',\n",
       "   'params_dir': 'MANUS_data/books1/calib.object',\n",
       "   'width': 1280,\n",
       "   'height': 720,\n",
       "   'resize_factor': 1.0,\n",
       "   'bg_color': 'white',\n",
       "   'near': 0.01,\n",
       "   'far': 100,\n",
       "   'split_ratio': 0.98}},\n",
       " 'test_dataset': {'_target_': 'src.datasets.brics_static.TestDataset',\n",
       "  'opts': {'resize_factor': 1.0,\n",
       "   'color_bkgd_aug': 'white',\n",
       "   'cam_path': './data/camera_paths/real.pkl',\n",
       "   'frame_sample_rate': 4,\n",
       "   'test_on_train_dataset': False,\n",
       "   'worst_cases': False,\n",
       "   'test_on_canonical_pose': False}},\n",
       " 'model': {'opts': {'sh_degree': 3,\n",
       "   'num_gaussians': 100000,\n",
       "   'sample_size': 300000,\n",
       "   'position_lr_init': 0.0016,\n",
       "   'position_lr_final': 1.6e-06,\n",
       "   'position_lr_delay_mult': 0.01,\n",
       "   'position_lr_max_steps': 30000,\n",
       "   'feature_lr': 0.0025,\n",
       "   'opacity_lr': 0.05,\n",
       "   'scaling_lr': 0.005,\n",
       "   'rotation_lr': 0.001,\n",
       "   'skinning_lr': 0.001,\n",
       "   'percent_dense': 1e-05,\n",
       "   'lambda_dssim': 0.2,\n",
       "   'densification_interval': 100,\n",
       "   'opacity_reset_interval': 500,\n",
       "   'densify': True,\n",
       "   'densify_from_step': 100,\n",
       "   'densify_until_step': 50000,\n",
       "   'densify_grad_threshold': 3e-05,\n",
       "   'start_lpips_iter': 1000,\n",
       "   'min_opacity_threshold': 0.005,\n",
       "   'size_threshold': 20,\n",
       "   'remove_outliers_step': 150000,\n",
       "   'isotropic_scaling': False,\n",
       "   'remove_seg_start': 0,\n",
       "   'remove_seg_end': 1000,\n",
       "   'condition_number': 0.4},\n",
       "  '_target_': 'src.models.gaussian.GaussianModel'},\n",
       " 'output_dir': 'outputs/object/books1/books1/',\n",
       " 'module': {'_target_': 'src.modules.object.TrainingModule',\n",
       "  'opts': '${opts}',\n",
       "  'mode': '${trainer.mode}'},\n",
       " 'opts': {'losses': ['rgb_loss', 'ssim_loss', 'isotropic_reg'],\n",
       "  'loss_weight': [0.8, 0.2, 0.1],\n",
       "  'model': '${model}',\n",
       "  'train_dataset': '${train_dataset}',\n",
       "  'test_dataset': '${test_dataset}',\n",
       "  'trainer': '${trainer}',\n",
       "  'output_dir': '${output_dir}'}}"
      ]
     },
     "execution_count": 10,
     "metadata": {},
     "output_type": "execute_result"
    }
   ],
   "source": [
    "{\n",
    "  'trainer': {\n",
    "    'output_dir': None,\n",
    "    'seed': 42,\n",
    "    'gpus': [0],\n",
    "    'num_workers': 4, \n",
    "    'batch_size': 1, \n",
    "    'exp_name': 'books1', \n",
    "    'project': 'object', \n",
    "    'mode': 'train', \n",
    "    'log_losses': True, \n",
    "    'loggers': ['csv'], \n",
    "    'torch_compile_mode': None,\n",
    "    'accum_iter': 1,\n",
    "    'pl_vars': {\n",
    "      'max_steps': 10000, \n",
    "      'log_every_n_steps': 5,\n",
    "      'num_sanity_val_steps': 0, \n",
    "      'limit_train_batches': 1.0, \n",
    "      'limit_val_batches': 1.0,\n",
    "      'enable_progress_bar': True, \n",
    "      'precision': 32, \n",
    "      'accumulate_grad_batches': 1\n",
    "    }\n",
    "  }, \n",
    "  'train_dataset': {\n",
    "    '_target_': 'src.datasets.brics_static.Dataset', \n",
    "    'opts': {\n",
    "      'subject': 'books1', \n",
    "      'root_dir': 'MANUS_data/books1/objects/books1', \n",
    "      'params_dir': 'MANUS_data/books1/calib.object', \n",
    "      'width': 1280,\n",
    "      'height': 720, \n",
    "      'resize_factor': 1.0, \n",
    "      'bg_color': 'white', \n",
    "      'near': 0.01,\n",
    "      'far': 100, \n",
    "      'split_ratio': 0.98\n",
    "    }\n",
    "  },\n",
    "  'test_dataset': {\n",
    "    '_target_': 'src.datasets.brics_static.TestDataset',\n",
    "    'opts': {\n",
    "      'resize_factor': 1.0,\n",
    "      'color_bkgd_aug': 'white', \n",
    "      'cam_path': './data/camera_paths/real.pkl', \n",
    "      'frame_sample_rate': 4,\n",
    "      'test_on_train_dataset': False,\n",
    "      'worst_cases': False, \n",
    "      'test_on_canonical_pose': False\n",
    "      }\n",
    "    },\n",
    "  'model': {\n",
    "    'opts': {\n",
    "      'sh_degree': 3, \n",
    "      'num_gaussians': 100000,\n",
    "      'sample_size': 300000, \n",
    "      'position_lr_init': 0.0016, \n",
    "      'position_lr_final': 1.6e-06,\n",
    "      'position_lr_delay_mult': 0.01, \n",
    "      'position_lr_max_steps': 30000,\n",
    "      'feature_lr': 0.0025, \n",
    "      'opacity_lr': 0.05, \n",
    "      'scaling_lr': 0.005, \n",
    "      'rotation_lr': 0.001, \n",
    "      'skinning_lr': 0.001, \n",
    "      'percent_dense': 1e-05, \n",
    "      'lambda_dssim': 0.2,\n",
    "      'densification_interval': 100,\n",
    "      'opacity_reset_interval': 500, \n",
    "      'densify': True, \n",
    "      'densify_from_step': 100, \n",
    "      'densify_until_step': 50000,\n",
    "      'densify_grad_threshold': 3e-05,\n",
    "      'start_lpips_iter': 1000, \n",
    "      'min_opacity_threshold': 0.005, \n",
    "      'size_threshold': 20, \n",
    "      'remove_outliers_step': 150000, \n",
    "      'isotropic_scaling': False, \n",
    "      'remove_seg_start': 0, \n",
    "      'remove_seg_end': 1000, \n",
    "      'condition_number': 0.4\n",
    "      },\n",
    "    '_target_': 'src.models.gaussian.GaussianModel'\n",
    "    },\n",
    "  'output_dir': 'outputs/object/books1/books1/', \n",
    "  'module': {\n",
    "    '_target_': 'src.modules.object.TrainingModule',\n",
    "    'opts': '${opts}', # train\n",
    "    'mode': '${trainer.mode}' # see below\n",
    "    }, \n",
    "  'opts': {\n",
    "    'losses': ['rgb_loss', 'ssim_loss', 'isotropic_reg'], \n",
    "    'loss_weight': [0.8, 0.2, 0.1],\n",
    "    'model': '${model}', \n",
    "    'train_dataset': '${train_dataset}',\n",
    "    'test_dataset': '${test_dataset}', \n",
    "    'trainer': '${trainer}', \n",
    "    'output_dir': '${output_dir}'\n",
    "    }\n",
    "  }\n"
   ]
  },
  {
   "cell_type": "markdown",
   "metadata": {},
   "source": [
    "The first issue I am facing is with a supposed folder being empty:\n",
    "\n",
    "We cann our traindataset using the class `src.datasets.brics_static.Dataset`. This looks in the MANUS_data/books1/objects/books1 directory. The error says this is empty..."
   ]
  },
  {
   "cell_type": "markdown",
   "metadata": {},
   "source": []
  },
  {
   "cell_type": "code",
   "execution_count": 11,
   "metadata": {},
   "outputs": [],
   "source": [
    "import cv2\n",
    "import joblib\n",
    "from src.utils.extra import *\n",
    "from src.utils import params as param_utils\n",
    "from src.utils.cam_utils import get_opengl_camera_attributes, get_scene_extent\n",
    "\n",
    "\n",
    "class Dataset(torch.utils.data.Dataset):\n",
    "    def __init__(self, opts, split='train'):\n",
    "        self.width = opts.width\n",
    "        self.height = opts.height\n",
    "        self.resize_factor = opts.resize_factor\n",
    "        self.instance_dir = opts.root_dir\n",
    "        self.split = split\n",
    "        self.bg_color = opts.bg_color\n",
    "\n",
    "        if not os.path.exists(self.instance_dir):\n",
    "            raise ValueError(f\"Data directory {self.instance_dir} is empty\")\n",
    "\n",
    "        image_dir = os.path.join(self.instance_dir, \"images\", \"refined_seg\")\n",
    "\n",
    "        if not os.path.exists(image_dir):\n",
    "            raise ValueError(f\"Image directory {image_dir} does not exist\")\n",
    "\n",
    "        # self.cam_file = os.path.join(self.instance_dir, '../..', 'calib', 'optim_params.txt')\n",
    "        self.cam_file = os.path.join(opts.params_dir, 'optim_params.txt')\n",
    "        if not os.path.exists(self.cam_file):\n",
    "            raise ValueError(\"Camera file does not exist\")\n",
    "\n",
    "        cameras = param_utils.read_params(self.cam_file)\n",
    "\n",
    "        # Remove the lower hemisphere views\n",
    "        skip_images = [\n",
    "            \"brics-sbc-003_cam0\",\n",
    "            \"brics-sbc-003_cam1\",\n",
    "            \"brics-sbc-004_cam1\",\n",
    "            \"brics-sbc-008_cam0\",\n",
    "            \"brics-sbc-008_cam1\",\n",
    "            \"brics-sbc-009_cam0\",\n",
    "            \"brics-sbc-013_cam0\",\n",
    "            \"brics-sbc-013_cam1\",\n",
    "            \"brics-sbc-014_cam0\",\n",
    "            \"brics-sbc-018_cam0\",\n",
    "            \"brics-sbc-018_cam1\",\n",
    "            \"brics-sbc-019_cam0\",\n",
    "            # \"brics-sbc-027_cam0\",\n",
    "            # \"brics-sbc-027_cam1\",\n",
    "            # \"brics-sbc-028_cam0\",\n",
    "            # \"brics-sbc-029_cam0\",\n",
    "            # \"brics-sbc-029_cam1\",\n",
    "            # \"brics-sbc-030_cam0\",\n",
    "            # \"brics-sbc-030_cam1\",\n",
    "        ]\n",
    "\n",
    "        cameras = [cam for cam in cameras if cam[\"cam_name\"] not in skip_images]\n",
    "        # cameras = np.random.choice(cameras, 9)\n",
    "\n",
    "        if opts.split_ratio < 0.0:\n",
    "            pass\n",
    "        else:\n",
    "            if self.split == 'train':\n",
    "                # cameras = cameras[:int(opts.split_ratio * len(cameras))]\n",
    "                cameras = cameras[2:]\n",
    "            else:\n",
    "                cameras = cameras[:2]\n",
    "                # cameras = cameras[int(opts.split_ratio * len(cameras)):]\n",
    "\n",
    "\n",
    "\n",
    "        self.images = []\n",
    "        self.masks = []\n",
    "        d_dict = defaultdict(list)\n",
    "        self.cam2idx = {}\n",
    "\n",
    "        for idx, cam in enumerate(cameras):\n",
    "            extr = param_utils.get_extr(cam)\n",
    "            K, dist = param_utils.get_intr(cam)\n",
    "            cam_name = cam[\"cam_name\"]\n",
    "\n",
    "            img_path = os.path.join(image_dir, cam_name, '*')\n",
    "            img_path = glob.glob(img_path)[0]\n",
    "\n",
    "            self.cam2idx[cam_name] = idx\n",
    "\n",
    "            image = cv2.imread(img_path, cv2.IMREAD_UNCHANGED)\n",
    "            new_K, roi = param_utils.get_undistort_params(K, dist, (self.width, self.height))\n",
    "            image = param_utils.undistort_image(K, new_K, dist, image)\n",
    "            new_K = new_K.astype(np.float32)\n",
    "            extr = extr.astype(np.float32)\n",
    "\n",
    "            attr_dict = get_opengl_camera_attributes(new_K, extr, self.width, self.height,\n",
    "                                                     resize_factor=self.resize_factor)\n",
    "            for k, v in attr_dict.items():\n",
    "                d_dict[k].append(v)\n",
    "            d_dict['cam_name'].append(cam_name)\n",
    "\n",
    "            if image.shape[-1] == 4:\n",
    "                b, g, r, alpha = cv2.split(image)\n",
    "            else:\n",
    "                b, g, r = cv2.split(image)\n",
    "\n",
    "            rgb = np.stack([r, g, b], axis=-1)\n",
    "            alpha = alpha[..., np.newaxis] / 255.0\n",
    "            mask = alpha\n",
    "\n",
    "            rgb = rgb / 255.0\n",
    "            color_bkgd = self.get_bg_color()\n",
    "            rgb = rgb * alpha + color_bkgd * (1.0 - alpha)\n",
    "            self.images.append(rgb)\n",
    "            self.masks.append(mask)\n",
    "\n",
    "        for k, v in d_dict.items():\n",
    "            d_dict[k] = np.stack(v, axis=0)\n",
    "\n",
    "        self.all_cameras = Cameras(**d_dict)\n",
    "        self.extent = get_scene_extent(self.all_cameras.camera_center)\n",
    "        dump_points(self.all_cameras.camera_center, f'./cam_centers_{self.split}.ply')\n",
    "        self.n_images = len(self.images)\n",
    "        self.all_cameras = to_tensor(self.all_cameras)\n",
    "\n",
    "    def get_bg_color(self):\n",
    "        if self.bg_color == \"random\":\n",
    "            color_bkgd = np.random.rand(3).astype(np.float32)\n",
    "        elif self.bg_color == \"white\":\n",
    "            color_bkgd = np.ones(3).astype(np.float32)\n",
    "        elif self.bg_color == \"black\":\n",
    "            color_bkgd = np.zeros(3).astype(np.float32)\n",
    "        return color_bkgd\n",
    "\n",
    "    def sample_gaussians(self, sample_size, sample_mesh=False):\n",
    "        mesh_dir = os.path.join(self.instance_dir, 'mesh', 'ngp_mesh')\n",
    "        mesh_path = glob.glob(os.path.join(mesh_dir, '*.ply'))[0]\n",
    "        mesh = trimesh.load(mesh_path, process=False, maintain_order=True)\n",
    "        points = mesh.sample(sample_size)\n",
    "\n",
    "        if not sample_mesh:\n",
    "            rand_ind = np.random.randint(sample_size, size=sample_size)\n",
    "            grid_points = create_voxel_grid([-1, 1], 256)\n",
    "            np.random.shuffle(grid_points)\n",
    "            grid_points = grid_points[rand_ind]\n",
    "            mean = points.mean(axis=0)\n",
    "            scale = np.max(np.max(points, axis=0) - np.min(points, axis=0)) / 2\n",
    "            points = grid_points * scale + mean\n",
    "        else:\n",
    "            noise = np.random.normal(0, 0.03, points.shape)\n",
    "            points = points + noise\n",
    "        points_colors = torch.rand(points.shape)\n",
    "\n",
    "        dump_points(points, './init_gaussians.ply', points_colors)\n",
    "        return points, points_colors\n",
    "\n",
    "    def get_scene_extent(self, cam_centers):\n",
    "        ## Used in densify_and_prune\n",
    "        avg_cam_center = np.mean(cam_centers, axis=1, keepdims=True)\n",
    "        center = avg_cam_center\n",
    "        dist = np.linalg.norm(cam_centers - center, axis=0, keepdims=True)\n",
    "        diagonal = np.max(dist)\n",
    "        radius = diagonal * 1.1\n",
    "        return radius\n",
    "\n",
    "    def __len__(self):\n",
    "        return self.n_images\n",
    "\n",
    "    def __getitem__(self, idx):\n",
    "        sampling_idx = idx\n",
    "        rgb = self.images[sampling_idx]\n",
    "        mask = self.masks[sampling_idx]\n",
    "        camera = self.all_cameras[sampling_idx]\n",
    "\n",
    "        data = {\n",
    "            \"rgb\": torch.from_numpy(rgb).float(),\n",
    "            \"mask\": torch.from_numpy(mask).float(),\n",
    "            \"camera\": camera,\n",
    "            \"scaling_modifier\": 1.0,\n",
    "            \"bg_color\": to_tensor(self.get_bg_color())\n",
    "        }\n",
    "        return data\n",
    "\n",
    "    def collate_fn(self, batch_list):\n",
    "        # get list of dictionaries and returns input, ground_true as dictionary for all batch instances\n",
    "        batch_list = zip(*batch_list)\n",
    "\n",
    "        all_parsed = []\n",
    "        for entry in batch_list:\n",
    "            if type(entry[0]) is dict:\n",
    "                # make them all into a new dict\n",
    "                ret = {}\n",
    "                for k in entry[0].keys():\n",
    "                    ret[k] = torch.stack([obj[k] for obj in entry])\n",
    "                all_parsed.append(ret)\n",
    "            else:\n",
    "                all_parsed.append(torch.LongTensor(entry))\n",
    "\n",
    "        return tuple(all_parsed)\n",
    "\n",
    "    def get_scale_mat(self):\n",
    "        return np.load(self.cam_file)[\"scale_mat_0\"]\n",
    "\n",
    "\n",
    "class TestDataset(torch.utils.data.Dataset):\n",
    "    def __init__(self, opts, split=\"test\"):\n",
    "        super().__init__()\n",
    "        self.resize_factor = opts.resize_factor\n",
    "        self.bg_color = opts.color_bkgd_aug\n",
    "        self.frame_sample_rate = opts.frame_sample_rate\n",
    "        self.width = 1280\n",
    "        self.height = 720\n",
    "\n",
    "        self.cam_path = os.path.join(\n",
    "            os.path.dirname(os.path.abspath(__file__)),\n",
    "            \"..\",\n",
    "            \"..\",\n",
    "            opts.cam_path\n",
    "        )\n",
    "\n",
    "        cam_data = joblib.load(self.cam_path)\n",
    "        Ks = cam_data[\"intrs\"]\n",
    "        extrins = cam_data[\"extrs\"]\n",
    "        self.n_frames = len(extrins[::self.frame_sample_rate])\n",
    "\n",
    "        d_dict = defaultdict(list)\n",
    "\n",
    "        for i in range(self.n_frames):\n",
    "            fx, fy, cx, cy = Ks[i]\n",
    "            K = np.array([[fx, 0, cx], [0, fy, cy], [0, 0, 1]])\n",
    "            RT = extrins[i]\n",
    "            RT = np.vstack((RT, np.array([0, 0, 0, 1])))\n",
    "\n",
    "            attr_dict = get_opengl_camera_attributes(K, RT[:3, :4], self.width, self.height,\n",
    "                                                     resize_factor=self.resize_factor)\n",
    "\n",
    "            for k, v in attr_dict.items():\n",
    "                d_dict[k].append(v)\n",
    "            d_dict['cam_name'].append(str(i))\n",
    "\n",
    "        for k, v in d_dict.items():\n",
    "            d_dict[k] = np.stack(v, axis=0)\n",
    "\n",
    "        self.all_cameras = Cameras(**d_dict)\n",
    "\n",
    "    def __getitem__(self, index):\n",
    "        data = self.fetch_data(index)\n",
    "        return data\n",
    "\n",
    "    def fetch_data(self, index):\n",
    "        camera = self.all_cameras[index]\n",
    "        camera = to_tensor(camera)\n",
    "        data_dict = {\n",
    "            \"idx\": index,\n",
    "            \"camera\": camera,\n",
    "            \"scaling_modifier\": 1.0,\n",
    "            \"bg_color\": torch.tensor([1.0, 1.0, 1.0]) if self.bg_color == \"white\" else torch.tensor([0.0, 0.0, 0.0])\n",
    "        }\n",
    "        return data_dict\n",
    "\n",
    "    def __len__(self):\n",
    "        return self.n_frames\n",
    "\n"
   ]
  },
  {
   "cell_type": "markdown",
   "metadata": {},
   "source": [
    "Class `Dataset` takes in the following arguments:\n",
    "\n",
    "```def __init__(self, opts, split='train'):```\n",
    "\n",
    "Lets insantiate this object to see what happens..."
   ]
  },
  {
   "cell_type": "code",
   "execution_count": 23,
   "metadata": {},
   "outputs": [
    {
     "ename": "ValueError",
     "evalue": "Camera file does not exist",
     "output_type": "error",
     "traceback": [
      "\u001b[0;31m---------------------------------------------------------------------------\u001b[0m",
      "\u001b[0;31mValueError\u001b[0m                                Traceback (most recent call last)",
      "\u001b[0;32m/tmp/ipykernel_1908280/1456447338.py\u001b[0m in \u001b[0;36m<module>\u001b[0;34m\u001b[0m\n\u001b[1;32m     14\u001b[0m     })\n\u001b[1;32m     15\u001b[0m \u001b[0;34m\u001b[0m\u001b[0m\n\u001b[0;32m---> 16\u001b[0;31m \u001b[0mDataset\u001b[0m\u001b[0;34m(\u001b[0m\u001b[0mopts\u001b[0m\u001b[0;34m=\u001b[0m\u001b[0mopts\u001b[0m\u001b[0;34m)\u001b[0m\u001b[0;34m\u001b[0m\u001b[0;34m\u001b[0m\u001b[0m\n\u001b[0m",
      "\u001b[0;32m/tmp/ipykernel_1908280/4070021913.py\u001b[0m in \u001b[0;36m__init__\u001b[0;34m(self, opts, split)\u001b[0m\n\u001b[1;32m     26\u001b[0m         \u001b[0mself\u001b[0m\u001b[0;34m.\u001b[0m\u001b[0mcam_file\u001b[0m \u001b[0;34m=\u001b[0m \u001b[0mos\u001b[0m\u001b[0;34m.\u001b[0m\u001b[0mpath\u001b[0m\u001b[0;34m.\u001b[0m\u001b[0mjoin\u001b[0m\u001b[0;34m(\u001b[0m\u001b[0mopts\u001b[0m\u001b[0;34m.\u001b[0m\u001b[0mparams_dir\u001b[0m\u001b[0;34m,\u001b[0m \u001b[0;34m'optim_params.txt'\u001b[0m\u001b[0;34m)\u001b[0m\u001b[0;34m\u001b[0m\u001b[0;34m\u001b[0m\u001b[0m\n\u001b[1;32m     27\u001b[0m         \u001b[0;32mif\u001b[0m \u001b[0;32mnot\u001b[0m \u001b[0mos\u001b[0m\u001b[0;34m.\u001b[0m\u001b[0mpath\u001b[0m\u001b[0;34m.\u001b[0m\u001b[0mexists\u001b[0m\u001b[0;34m(\u001b[0m\u001b[0mself\u001b[0m\u001b[0;34m.\u001b[0m\u001b[0mcam_file\u001b[0m\u001b[0;34m)\u001b[0m\u001b[0;34m:\u001b[0m\u001b[0;34m\u001b[0m\u001b[0;34m\u001b[0m\u001b[0m\n\u001b[0;32m---> 28\u001b[0;31m             \u001b[0;32mraise\u001b[0m \u001b[0mValueError\u001b[0m\u001b[0;34m(\u001b[0m\u001b[0;34m\"Camera file does not exist\"\u001b[0m\u001b[0;34m)\u001b[0m\u001b[0;34m\u001b[0m\u001b[0;34m\u001b[0m\u001b[0m\n\u001b[0m\u001b[1;32m     29\u001b[0m \u001b[0;34m\u001b[0m\u001b[0m\n\u001b[1;32m     30\u001b[0m         \u001b[0mcameras\u001b[0m \u001b[0;34m=\u001b[0m \u001b[0mparam_utils\u001b[0m\u001b[0;34m.\u001b[0m\u001b[0mread_params\u001b[0m\u001b[0;34m(\u001b[0m\u001b[0mself\u001b[0m\u001b[0;34m.\u001b[0m\u001b[0mcam_file\u001b[0m\u001b[0;34m)\u001b[0m\u001b[0;34m\u001b[0m\u001b[0;34m\u001b[0m\u001b[0m\n",
      "\u001b[0;31mValueError\u001b[0m: Camera file does not exist"
     ]
    }
   ],
   "source": [
    "from omegaconf import OmegaConf\n",
    "\n",
    "opts = OmegaConf.create({\n",
    "      'subject': 'books1', \n",
    "      'root_dir': 'MANUS_data/books1/objects/books1', \n",
    "      'params_dir': 'MANUS_data/books1/calib.object', \n",
    "      'width': 1280,\n",
    "      'height': 720, \n",
    "      'resize_factor': 1.0, \n",
    "      'bg_color': 'white', \n",
    "      'near': 0.01,\n",
    "      'far': 100, \n",
    "      'split_ratio': 0.98\n",
    "    })\n",
    "\n",
    "Dataset(opts=opts)"
   ]
  },
  {
   "cell_type": "code",
   "execution_count": 13,
   "metadata": {},
   "outputs": [
    {
     "ename": "AttributeError",
     "evalue": "'dict' object has no attribute 'width'",
     "output_type": "error",
     "traceback": [
      "\u001b[0;31m---------------------------------------------------------------------------\u001b[0m",
      "\u001b[0;31mAttributeError\u001b[0m                            Traceback (most recent call last)",
      "\u001b[0;32m/tmp/ipykernel_1908280/1071600060.py\u001b[0m in \u001b[0;36m<module>\u001b[0;34m\u001b[0m\n\u001b[0;32m----> 1\u001b[0;31m \u001b[0mopts\u001b[0m\u001b[0;34m.\u001b[0m\u001b[0mwidth\u001b[0m\u001b[0;34m\u001b[0m\u001b[0;34m\u001b[0m\u001b[0m\n\u001b[0m",
      "\u001b[0;31mAttributeError\u001b[0m: 'dict' object has no attribute 'width'"
     ]
    }
   ],
   "source": [
    "opts.width"
   ]
  },
  {
   "cell_type": "code",
   "execution_count": 15,
   "metadata": {},
   "outputs": [],
   "source": [
    "myDict = {\"test\":5}"
   ]
  },
  {
   "cell_type": "code",
   "execution_count": 20,
   "metadata": {},
   "outputs": [
    {
     "data": {
      "text/plain": [
       "{'test': 5}"
      ]
     },
     "execution_count": 20,
     "metadata": {},
     "output_type": "execute_result"
    }
   ],
   "source": [
    "from omegaconf import OmegaConf\n",
    "OmegaConf.create(myDict)"
   ]
  },
  {
   "cell_type": "code",
   "execution_count": 2,
   "metadata": {},
   "outputs": [],
   "source": [
    "import torch \n",
    "import numpy as np\n",
    "def strip_lowerdiag(L):\n",
    "    uncertainty = torch.zeros((L.shape[0], 6), dtype=torch.float, device=\"cuda\")\n",
    "\n",
    "    uncertainty[:, 0] = L[:, 0, 0]\n",
    "    uncertainty[:, 1] = L[:, 0, 1]\n",
    "    uncertainty[:, 2] = L[:, 0, 2]\n",
    "    uncertainty[:, 3] = L[:, 1, 1]\n",
    "    uncertainty[:, 4] = L[:, 1, 2]\n",
    "    uncertainty[:, 5] = L[:, 2, 2]\n",
    "    return uncertainty"
   ]
  },
  {
   "cell_type": "code",
   "execution_count": 11,
   "metadata": {},
   "outputs": [
    {
     "data": {
      "text/plain": [
       "tensor([[1., 2., 3., 2., 3., 3.],\n",
       "        [1., 2., 3., 2., 3., 3.],\n",
       "        [1., 2., 3., 2., 3., 3.]], device='cuda:0')"
      ]
     },
     "execution_count": 11,
     "metadata": {},
     "output_type": "execute_result"
    }
   ],
   "source": [
    "A = torch.Tensor([[[1,2,3],[1,2,3],[1,2,3]],\n",
    "              [[1,2,3],[1,2,3],[1,2,3]],\n",
    "              [[1,2,3],[1,2,3],[1,2,3]]])\n",
    "\n",
    "#A = torch.Tensor([[1,2,3],[1,2,3],[1,2,3]])\n",
    "\n",
    "strip_lowerdiag(A)"
   ]
  },
  {
   "cell_type": "code",
   "execution_count": 12,
   "metadata": {},
   "outputs": [
    {
     "data": {
      "text/plain": [
       "tensor([[[1., 2., 3.],\n",
       "         [1., 2., 3.],\n",
       "         [1., 2., 3.]],\n",
       "\n",
       "        [[1., 2., 3.],\n",
       "         [1., 2., 3.],\n",
       "         [1., 2., 3.]],\n",
       "\n",
       "        [[1., 2., 3.],\n",
       "         [1., 2., 3.],\n",
       "         [1., 2., 3.]]])"
      ]
     },
     "execution_count": 12,
     "metadata": {},
     "output_type": "execute_result"
    }
   ],
   "source": [
    "A"
   ]
  },
  {
   "cell_type": "code",
   "execution_count": 13,
   "metadata": {},
   "outputs": [
    {
     "name": "stdout",
     "output_type": "stream",
     "text": [
      "[Taichi] version 1.7.1, llvm 15.0.4, commit 0f143b2f, linux, python 3.10.12\n"
     ]
    },
    {
     "name": "stderr",
     "output_type": "stream",
     "text": [
      "[I 06/13/24 15:41:49.671 309173] [shell.py:_shell_pop_print@23] Graphical python shell detected, using wrapped sys.stdout\n"
     ]
    }
   ],
   "source": [
    "import taichi as ti"
   ]
  },
  {
   "cell_type": "code",
   "execution_count": 19,
   "metadata": {},
   "outputs": [
    {
     "ename": "NameError",
     "evalue": "name 'pt1' is not defined",
     "output_type": "error",
     "traceback": [
      "\u001b[0;31m---------------------------------------------------------------------------\u001b[0m",
      "\u001b[0;31mNameError\u001b[0m                                 Traceback (most recent call last)",
      "\u001b[0;32m/tmp/ipykernel_309173/2275126403.py\u001b[0m in \u001b[0;36m<module>\u001b[0;34m\u001b[0m\n\u001b[0;32m----> 1\u001b[0;31m \u001b[0mti_pt1\u001b[0m \u001b[0;34m=\u001b[0m \u001b[0mti\u001b[0m\u001b[0;34m.\u001b[0m\u001b[0mndarray\u001b[0m\u001b[0;34m(\u001b[0m\u001b[0mshape\u001b[0m\u001b[0;34m=\u001b[0m\u001b[0;34m(\u001b[0m\u001b[0mpt1\u001b[0m\u001b[0;34m.\u001b[0m\u001b[0mshape\u001b[0m\u001b[0;34m[\u001b[0m\u001b[0;36m0\u001b[0m\u001b[0;34m]\u001b[0m\u001b[0;34m,\u001b[0m \u001b[0;36m3\u001b[0m\u001b[0;34m)\u001b[0m\u001b[0;34m,\u001b[0m \u001b[0mdtype\u001b[0m\u001b[0;34m=\u001b[0m\u001b[0mti\u001b[0m\u001b[0;34m.\u001b[0m\u001b[0mf32\u001b[0m\u001b[0;34m)\u001b[0m\u001b[0;34m\u001b[0m\u001b[0;34m\u001b[0m\u001b[0m\n\u001b[0m",
      "\u001b[0;31mNameError\u001b[0m: name 'pt1' is not defined"
     ]
    }
   ],
   "source": [
    "\n",
    "ti_pt1 = ti.ndarray(shape=(pt1.shape[0], 3), dtype=ti.f32)"
   ]
  },
  {
   "cell_type": "code",
   "execution_count": 126,
   "metadata": {},
   "outputs": [],
   "source": []
  },
  {
   "cell_type": "code",
   "execution_count": 127,
   "metadata": {},
   "outputs": [],
   "source": [
    "import matplotlib.pyplot as plt"
   ]
  },
  {
   "cell_type": "code",
   "execution_count": 175,
   "metadata": {},
   "outputs": [
    {
     "data": {
      "image/png": "[encoded data removed]",
      "text/plain": [
       "<Figure size 432x288 with 1 Axes>"
      ]
     },
     "metadata": {
      "needs_background": "light"
     },
     "output_type": "display_data"
    }
   ],
   "source": [
    "num_points = 500\n",
    "range_min = 0\n",
    "range_max = 25\n",
    "grid_max = 100\n",
    "\n",
    "grid = np.full((grid_max,grid_max,3),255)\n",
    "hand = torch.normal(58,3, size=(num_points, 3)).to(torch.int32)\n",
    "obj = torch.normal(50,3, size=(num_points, 3)).to(torch.int32)\n",
    "\n",
    "def fill_grid(points, channel = 0):\n",
    "    for point in points:\n",
    "        try:\n",
    "            grid[point[0], point[1],channel] = 0\n",
    "        except:\n",
    "            pass\n",
    "        \n",
    "fill_grid(hand[:,0:2],[0])\n",
    "fill_grid(obj[:,0:2],[1])\n",
    "plt.imshow(grid);\n",
    "\n",
    "\n",
    "\n",
    "def calculate_distances(\n",
    "        pt1,\n",
    "        pt2,\n",
    "        ti_contact_map,\n",
    "        ti_contact_indices,\n",
    "    ):\n",
    "    print(f\"Pt1 shape: {pt1.shape}\")\n",
    "    print(f\"Pt2 shape: {pt2.shape}\")\n",
    "    # For each gaussian in part 1\n",
    "    for i in range(pt1.shape[0]):\n",
    "        min_dist = 1e9 # Contact threshold\n",
    "        # For each gaussian in part 2\n",
    "        for j in range(pt2.shape[0]):\n",
    "            dist = 0.0 # init distance\n",
    "            # for each dimension\n",
    "            for k in range(3):\n",
    "                dist += (pt1[i, k] - pt2[j, k]) ** 2 # distance^2 = sum[(a-b)^2]\n",
    "            dist = torch.sqrt(dist) # get actual distance by taking sqroot\n",
    "            # if the distance is smaller than threshold (this counts as contact)\n",
    "            if dist < min_dist:\n",
    "                min_dist = dist # Update threshold (why??)\n",
    "                ti_contact_indices[i] = j\n",
    "            ti_contact_map[i] = min_dist\n",
    "    return ti_contact_map, ti_contact_indices\n",
    "            \n",
    "            \n",
    "pt1 = hand\n",
    "pt2 = obj\n",
    "\n",
    "ti_contact_map = torch.empty(size=(pt1.shape[0],))\n",
    "ti_contact_indices = torch.empty(size=(pt1.shape[0],))\n",
    "\n"
   ]
  },
  {
   "cell_type": "code",
   "execution_count": 176,
   "metadata": {},
   "outputs": [
    {
     "name": "stdout",
     "output_type": "stream",
     "text": [
      "Pt1 shape: torch.Size([500, 3])\n",
      "Pt2 shape: torch.Size([500, 3])\n"
     ]
    }
   ],
   "source": [
    "contact_map, indices = calculate_distances(hand,obj,ti_contact_map,ti_contact_indices)"
   ]
  },
  {
   "cell_type": "code",
   "execution_count": 156,
   "metadata": {},
   "outputs": [
    {
     "data": {
      "text/plain": [
       "<matplotlib.image.AxesImage at 0x7f6c9379dc00>"
      ]
     },
     "execution_count": 156,
     "metadata": {},
     "output_type": "execute_result"
    },
    {
     "data": {
      "image/png": "[encoded data removed]",
      "text/plain": [
       "<Figure size 432x288 with 1 Axes>"
      ]
     },
     "metadata": {
      "needs_background": "light"
     },
     "output_type": "display_data"
    }
   ],
   "source": [
    "cmap_int = contact_map.to(torch.int32)\n",
    "(255- contact_map).to(torch.int32)\n",
    "grid_max = 100\n",
    "\n",
    "grid = np.full((grid_max,grid_max,3),255)\n",
    "\n",
    "for point in cmap_int:\n",
    "    grid\n",
    "plt.imshow(grid)"
   ]
  },
  {
   "cell_type": "code",
   "execution_count": 178,
   "metadata": {},
   "outputs": [
    {
     "data": {
      "text/plain": [
       "tensor([ 8.0623,  7.5498,  1.0000, 11.0000,  7.0711,  8.3666,  9.9499,  8.3066,\n",
       "         7.8740,  6.4031,  8.7750,  5.0990,  9.8995,  2.2361,  7.4833,  7.4833,\n",
       "         6.0000,  8.3066,  3.7417,  8.6023,  6.1644,  6.4807,  6.3246,  6.7082,\n",
       "         8.6023, 12.3288,  6.1644,  7.2801,  8.6023,  5.0990,  8.7750,  7.3485,\n",
       "         9.8995, 10.0499,  5.6569,  8.0623,  7.8740,  6.6332,  6.4031,  6.7082,\n",
       "         7.2801,  7.4833, 10.4881,  4.8990, 11.1803,  8.3666,  8.3666,  3.7417,\n",
       "         8.6023,  8.4853,  6.0828,  5.4772,  9.0000,  5.0990,  8.3066, 10.7703,\n",
       "        11.1803,  5.4772,  4.8990, 10.2470,  7.0000,  7.8102, 11.2250, 11.1803,\n",
       "         6.7082,  4.6904,  8.3666,  5.8310,  8.6023,  9.2736,  6.1644,  8.6603,\n",
       "         7.0711,  4.6904,  7.4833,  8.8318,  4.2426, 13.4164,  8.3666,  9.0554,\n",
       "         6.1644, 10.2956,  6.1644, 11.1803,  9.8995,  7.6811,  7.0711,  6.7082,\n",
       "         7.5498,  4.5826,  8.1240,  7.5498,  5.3852,  2.4495,  5.4772,  6.1644,\n",
       "         5.8310,  8.6023,  4.1231,  4.6904,  6.1644, 11.3578,  5.9161,  4.1231,\n",
       "         4.1231,  8.1854,  9.8995,  8.3666,  5.8310,  6.4807,  8.1240,  5.7446,\n",
       "         1.4142,  6.7823,  4.0000,  4.1231, 11.1803,  5.6569,  1.0000,  7.2801,\n",
       "         3.0000,  5.0990,  7.8740,  5.8310,  6.4031,  5.9161,  3.6056,  1.0000,\n",
       "         9.0000,  2.8284, 10.4403, 11.0000,  5.0990,  6.5574,  7.8102,  4.3589,\n",
       "         5.4772,  6.4807,  4.1231,  8.6023,  7.6811,  5.1962,  6.4807,  8.3666,\n",
       "         8.3066,  5.3852,  7.8740,  3.7417,  9.5394,  5.0990, 10.3441, 10.2470,\n",
       "         5.0000,  7.3485,  5.0990,  4.0000,  5.3852,  6.4807,  3.0000,  7.2111,\n",
       "         7.8740,  6.7823,  3.3166, 12.8841, 11.0000,  5.3852,  9.4868, 15.4272,\n",
       "         7.0000,  3.0000,  9.8995,  5.3852,  9.1652,  2.2361,  8.2462,  2.2361,\n",
       "         7.2801,  5.9161,  4.2426,  3.1623,  6.7823,  5.8310,  6.1644,  3.7417,\n",
       "         3.4641,  4.5826,  4.5826,  5.9161,  9.8995, 10.0499,  3.7417,  5.1962,\n",
       "         8.2462,  3.7417,  6.4031,  8.6023,  9.3808,  6.7082,  5.0990,  4.5826,\n",
       "         7.8102,  7.3485,  7.1414,  6.1644,  4.3589,  7.8740,  5.9161,  5.0990,\n",
       "         4.5826,  5.9161,  7.0711,  7.3485,  9.0000,  7.0000,  4.1231,  9.6954,\n",
       "         5.4772, 10.2470,  5.9161,  8.7750,  5.8310,  7.0711,  3.7417,  3.7417,\n",
       "         7.3485,  6.4807,  8.2462, 12.6886,  5.3852,  6.5574,  2.2361,  8.3666,\n",
       "        11.8743,  7.0000,  4.6904,  2.4495,  7.1414,  4.4721,  8.3666,  5.4772,\n",
       "         7.0711,  3.0000,  4.8990,  4.1231,  9.0000,  6.4031, 10.7238,  9.8995,\n",
       "         5.4772,  8.1854,  9.1104,  5.8310,  9.4340, 14.3527,  7.3485,  4.1231,\n",
       "         7.4833,  8.1240,  4.5826,  5.7446,  3.0000,  9.7980,  5.9161,  4.8990,\n",
       "         5.9161,  9.4340,  7.5498,  9.4340,  7.0000, 10.6771, 12.0830,  7.6811,\n",
       "        10.2470,  3.3166,  4.6904,  6.7823,  9.3808,  4.5826,  8.6023,  5.1962,\n",
       "         6.7082, 10.0499, 15.2971,  6.1644,  2.2361,  5.7446,  9.0000,  3.1623,\n",
       "         2.4495,  4.8990,  2.2361,  9.1652,  3.6056,  6.7823,  4.6904,  5.3852,\n",
       "        10.7238,  7.2801,  8.3066,  5.3852,  5.1962, 10.2956, 10.0499,  8.0623,\n",
       "         5.1962,  2.2361,  7.0711,  7.1414,  4.5826,  7.8102,  6.5574,  4.8990,\n",
       "         9.4868,  5.0990,  6.6332,  2.4495,  7.0711,  7.4833, 10.6771,  1.0000,\n",
       "        13.0767,  8.3066, 12.2474,  6.7823,  9.2736,  8.6023,  1.7321,  7.5498,\n",
       "         9.1652,  6.1644,  2.2361,  4.6904,  4.1231, 12.4097,  7.1414,  4.5826,\n",
       "         9.9499,  5.3852,  3.0000,  6.9282,  5.1962, 10.4403,  4.2426,  3.0000,\n",
       "         8.0623,  3.1623,  3.7417,  7.0711,  3.7417,  3.0000,  1.0000,  7.8102,\n",
       "         5.3852,  5.0990, 12.5698,  3.0000,  6.4807,  9.4340,  4.4721,  8.6023,\n",
       "         9.3808,  5.0990,  7.4833,  5.3852,  7.0711,  9.9499,  7.0000,  2.4495,\n",
       "         4.2426,  5.7446,  7.0711,  8.6023,  8.1240,  8.3666, 12.2474,  6.1644,\n",
       "         8.6023,  7.8102, 11.3578,  3.4641,  5.4772,  7.3485,  9.2736,  6.7082,\n",
       "         8.7750,  6.7823,  8.6023, 11.4455,  4.1231,  7.8740, 11.1803,  3.3166,\n",
       "         3.1623,  4.1231, 11.5758, 12.8452,  9.9499, 11.0905,  2.8284,  6.1644,\n",
       "         6.0000,  6.4807,  7.5498,  6.4031,  8.7750,  3.1623,  3.1623,  8.4853,\n",
       "         4.6904,  4.2426,  6.5574,  9.7980,  6.1644,  5.8310,  2.2361,  1.0000,\n",
       "         6.5574,  8.6603,  3.0000,  6.4031,  4.1231,  5.9161,  8.2462,  7.3485,\n",
       "         7.5498, 11.4455, 11.7473,  6.7082,  3.0000,  7.8740,  7.0000,  3.7417,\n",
       "        10.3441,  4.1231,  0.0000,  6.4031,  8.6603,  4.1231,  6.3246,  5.0990,\n",
       "         4.2426,  6.4031, 11.2250,  3.7417,  5.0990,  5.3852,  7.0711,  4.1231,\n",
       "         3.3166,  1.0000,  5.9161,  3.3166,  6.7082,  7.4833,  5.9161,  1.4142,\n",
       "         9.1652,  9.6954,  3.3166,  1.0000,  6.4031,  6.4031,  8.1240, 10.7703,\n",
       "         6.4031,  5.9161, 11.4455,  4.8990, 10.0499,  8.3066,  9.0000,  8.1854,\n",
       "         5.9161,  4.1231,  9.6954,  2.4495,  9.0000,  5.7446,  8.3066,  4.0000,\n",
       "         8.6023, 11.5326,  7.3485,  9.8995,  7.2801,  6.1644,  7.4833,  7.1414,\n",
       "         5.3852,  3.6056,  8.3666,  5.8310,  5.8310,  6.4031,  6.6332,  6.4031,\n",
       "        10.4403,  5.3852,  6.4031,  8.7750])"
      ]
     },
     "execution_count": 178,
     "metadata": {},
     "output_type": "execute_result"
    }
   ],
   "source": [
    "# distance to nearest point\n",
    "contact_map "
   ]
  },
  {
   "cell_type": "code",
   "execution_count": 179,
   "metadata": {},
   "outputs": [
    {
     "data": {
      "text/plain": [
       "tensor([110., 256., 396., 402., 129., 256., 402., 396., 256., 256., 402., 402.,\n",
       "        396., 402., 256., 256., 256., 402., 402., 402., 110., 256., 256., 256.,\n",
       "        402., 244., 402., 402., 402., 256., 256., 256., 402., 256.,   1., 256.,\n",
       "        256., 402., 402., 110., 256., 256., 256., 256., 256., 110., 402., 129.,\n",
       "        402., 256., 256., 256., 402., 256., 129., 396., 402., 256., 129., 256.,\n",
       "        402., 256., 396., 402., 402., 402., 256., 402., 396., 110., 256., 402.,\n",
       "        256., 402., 396., 110., 256., 396., 256., 129., 402., 256., 402., 256.,\n",
       "        402., 256., 256., 402., 256., 256., 256., 256., 402., 256., 402., 396.,\n",
       "          1., 110., 256., 256., 129., 110., 402., 110., 402., 256., 256., 256.,\n",
       "        256., 110., 256., 189., 256., 110., 256., 256., 256., 110., 402., 402.,\n",
       "        319., 402., 256., 402., 256., 256., 256.,   7., 256., 256., 256., 402.,\n",
       "        256., 256., 256., 256., 396., 110., 256., 256., 256., 256., 110., 256.,\n",
       "        256., 256., 256., 129., 256., 256., 402., 110., 256., 256., 189., 256.,\n",
       "        110., 396., 256., 396., 110., 402., 256., 256., 110., 396., 256., 256.,\n",
       "        256., 129., 256., 256., 402., 167., 256.,  61., 110., 256., 256., 256.,\n",
       "        402., 256., 110., 402., 402., 402., 402., 256., 256., 256., 256., 402.,\n",
       "        256., 402., 110., 110., 402., 402., 256., 256., 396., 402., 256., 402.,\n",
       "        402., 256., 402., 256., 402., 256., 256., 110., 402., 402., 402., 396.,\n",
       "        402., 402., 256., 256., 256., 129., 396., 256., 256., 256., 256., 256.,\n",
       "        256., 129., 402., 256., 256., 396., 402., 256., 256., 402., 256., 189.,\n",
       "        402., 391., 256., 396., 256., 110., 256., 402., 402., 402., 256., 256.,\n",
       "        402., 256., 110., 396., 256., 256., 256., 402., 402., 256., 402., 256.,\n",
       "        256., 396., 402., 256., 256., 402., 256., 402., 402., 402., 402., 256.,\n",
       "        256., 402., 129., 256., 402., 110., 256.,  97., 256., 402., 256., 402.,\n",
       "        256., 256., 396., 396., 447., 402., 402., 256., 256., 112., 396., 129.,\n",
       "        402., 396., 396., 256., 402., 256., 256., 256., 396., 256., 256., 256.,\n",
       "        256., 402., 110., 402.,   1., 402., 256., 402., 402., 256., 396., 256.,\n",
       "        256., 256., 256., 256., 402., 402., 256., 256.,  38., 256., 256., 396.,\n",
       "        256., 256., 402., 256., 129., 110., 256., 256., 256., 256., 402., 402.,\n",
       "        256., 402., 256., 256., 396., 402., 402., 402., 396., 110., 256., 402.,\n",
       "        256., 110., 256., 110., 396., 402., 129., 256., 129., 256., 256., 256.,\n",
       "        256., 256., 402., 110., 396., 256., 256., 256., 256., 129., 110., 402.,\n",
       "        402., 256., 402., 110., 256., 256., 402.,   1., 402., 256.,  18., 256.,\n",
       "        256., 402.,  97., 256., 256., 256., 402., 256., 402., 256., 402., 256.,\n",
       "        402., 256., 402., 256., 402., 402., 129.,  11., 402., 402., 256., 189.,\n",
       "        402., 402., 396., 256., 256., 256., 256., 256., 256., 256., 256., 256.,\n",
       "        396., 396., 256., 256., 256., 256., 256., 256., 402., 256., 256., 256.,\n",
       "        256., 256., 256., 256., 402., 256., 402., 256., 396., 256., 391., 129.,\n",
       "        256., 110., 256., 402., 256., 402., 256., 256., 256., 256., 402., 256.,\n",
       "        402., 256., 256., 402., 256., 256., 256., 256., 256., 256., 129., 256.,\n",
       "        402., 110., 256., 256., 402., 402., 402., 256., 256., 402., 256., 402.,\n",
       "        396., 256., 396., 256., 256., 256., 256., 244.])"
      ]
     },
     "execution_count": 179,
     "metadata": {},
     "output_type": "execute_result"
    }
   ],
   "source": [
    "indices"
   ]
  },
  {
   "cell_type": "code",
   "execution_count": 209,
   "metadata": {},
   "outputs": [
    {
     "data": {
      "image/png": "[encoded data removed]",
      "text/plain": [
       "<Figure size 432x288 with 1 Axes>"
      ]
     },
     "metadata": {
      "needs_background": "light"
     },
     "output_type": "display_data"
    }
   ],
   "source": [
    "\n",
    "def plot_lines(a, b):\n",
    "    \"\"\"\n",
    "    Plot lines connecting points from array a to array b.\n",
    "\n",
    "    Parameters:\n",
    "        a (np.ndarray): An array of shape (n, 2) representing n points with (x, y) coordinates.\n",
    "        b (np.ndarray): An array of shape (n, 2) representing n points with (x, y) coordinates.\n",
    "    \"\"\"\n",
    "    if a.shape != b.shape:\n",
    "        raise ValueError(\"Arrays a and b must have the same shape.\")\n",
    "    \n",
    "    # Plot each line\n",
    "    for i in range(a.shape[0]):\n",
    "        x_values = [a[i, 0].tolist(), b[i, 0].tolist()]\n",
    "        y_values = [a[i, 1], b[i, 1]]\n",
    "        plt.plot(x_values, y_values, marker='o')\n",
    "    \n",
    "    # Set labels and show the plot\n",
    "    plt.xlabel('X-axis')\n",
    "    plt.ylabel('Y-axis')\n",
    "    plt.title('Lines from points in array a to points in array b')\n",
    "    plt.grid(True)\n",
    "    plt.show()\n",
    "\n",
    "# Example usage\n",
    "a = np.array([[0, 0], [1, 1], [2, 2]])\n",
    "b = np.array([[1, 0], [2, 1], [3, 3]])\n",
    "\n",
    "plot_lines(a, b)"
   ]
  },
  {
   "cell_type": "code",
   "execution_count": 197,
   "metadata": {},
   "outputs": [
    {
     "data": {
      "text/plain": [
       "tensor([[57, 48, 57],\n",
       "        [56, 54, 53],\n",
       "        [51, 56, 54],\n",
       "        ...,\n",
       "        [56, 54, 53],\n",
       "        [56, 54, 53],\n",
       "        [54, 57, 45]], dtype=torch.int32)"
      ]
     },
     "execution_count": 197,
     "metadata": {},
     "output_type": "execute_result"
    }
   ],
   "source": [
    "obj[indices.to(torch.int32)]"
   ]
  },
  {
   "cell_type": "code",
   "execution_count": 238,
   "metadata": {},
   "outputs": [
    {
     "data": {
      "text/plain": [
       "<matplotlib.collections.PathCollection at 0x7f6c8fbd18d0>"
      ]
     },
     "execution_count": 238,
     "metadata": {},
     "output_type": "execute_result"
    },
    {
     "data": {
      "image/png": "[encoded data removed]",
      "text/plain": [
       "<Figure size 432x288 with 1 Axes>"
      ]
     },
     "metadata": {
      "needs_background": "light"
     },
     "output_type": "display_data"
    }
   ],
   "source": [
    "dim1 = 0\n",
    "dim2 = 2\n",
    "plt.scatter(hand[:,dim1],hand[:,dim2], color=\"red\", alpha=0.2)\n",
    "plt.scatter(obj[:,dim1],obj[:,dim2], color=\"grey\", alpha=0.2)\n",
    "x_values = [hand[:,dim1].tolist(), obj[indices.to(torch.int32),dim1].tolist()]\n",
    "y_values = [hand[:,dim2].tolist(), obj[indices.to(torch.int32),dim2].tolist()]\n",
    "\n",
    "plt.plot(x_values, y_values, alpha=0.2, color=\"grey\");\n",
    "\n",
    "threshold = 3\n",
    "contacts = contact_map < threshold\n",
    "plt.scatter(hand[contacts,dim1], hand[contacts,dim2], color=\"cyan\")\n",
    "\n",
    "#plt.ylim([20,100])\n",
    "#plt.xlim([20,100])"
   ]
  },
  {
   "cell_type": "code",
   "execution_count": null,
   "metadata": {},
   "outputs": [],
   "source": []
  }
 ],
 "metadata": {
  "kernelspec": {
   "display_name": "env-manus",
   "language": "python",
   "name": "python3"
  },
  "language_info": {
   "codemirror_mode": {
    "name": "ipython",
    "version": 3
   },
   "file_extension": ".py",
   "mimetype": "text/x-python",
   "name": "python",
   "nbconvert_exporter": "python",
   "pygments_lexer": "ipython3",
   "version": "3.10.12"
  }
 },
 "nbformat": 4,
 "nbformat_minor": 2
}
